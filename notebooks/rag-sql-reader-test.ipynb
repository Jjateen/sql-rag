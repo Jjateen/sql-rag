{
 "cells": [
  {
   "cell_type": "code",
   "execution_count": 117,
   "id": "initial_id",
   "metadata": {
    "collapsed": true
   },
   "outputs": [],
   "source": [
    "from langchain_community.utilities import SQLDatabase"
   ]
  },
  {
   "cell_type": "code",
   "execution_count": 118,
   "id": "a1a9e91f250dc7fa",
   "metadata": {
    "ExecuteTime": {
     "end_time": "2024-03-18T20:59:26.303252Z",
     "start_time": "2024-03-18T20:59:26.284248Z"
    },
    "collapsed": false
   },
   "outputs": [],
   "source": [
    "db = SQLDatabase.from_uri(\"sqlite:///../data/movie.db\")"
   ]
  },
  {
   "cell_type": "code",
   "execution_count": 119,
   "id": "ec177434ed25b12b",
   "metadata": {
    "ExecuteTime": {
     "end_time": "2024-03-18T20:59:39.094381Z",
     "start_time": "2024-03-18T20:59:39.089507Z"
    },
    "collapsed": false
   },
   "outputs": [
    {
     "name": "stdout",
     "output_type": "stream",
     "text": [
      "['IMDB', 'earning', 'genre']\n"
     ]
    }
   ],
   "source": [
    "print(db.get_usable_table_names())"
   ]
  },
  {
   "cell_type": "code",
   "execution_count": 120,
   "id": "7333af85a5b00acc",
   "metadata": {
    "ExecuteTime": {
     "end_time": "2024-03-18T21:00:31.733704Z",
     "start_time": "2024-03-18T21:00:31.714196Z"
    },
    "collapsed": false
   },
   "outputs": [],
   "source": [
    "db_schema = db.get_table_info()"
   ]
  },
  {
   "cell_type": "code",
   "execution_count": 121,
   "id": "6171ee5b304d4a14",
   "metadata": {
    "ExecuteTime": {
     "end_time": "2024-03-18T21:06:21.718034Z",
     "start_time": "2024-03-18T21:06:21.699524Z"
    },
    "collapsed": false
   },
   "outputs": [],
   "source": [
    "from dotenv import load_dotenv\n",
    "import os\n",
    "import google.generativeai as genai\n",
    "\n",
    "load_dotenv()\n",
    "google_api_key = os.getenv(\"GOOGLE_API_KEY\")\n",
    "genai.configure(api_key=google_api_key)"
   ]
  },
  {
   "cell_type": "code",
   "execution_count": 122,
   "id": "47f7b17c03f1137e",
   "metadata": {
    "ExecuteTime": {
     "end_time": "2024-03-18T21:06:22.792912Z",
     "start_time": "2024-03-18T21:06:22.784906Z"
    },
    "collapsed": false
   },
   "outputs": [],
   "source": [
    "model = genai.GenerativeModel('gemini-pro')"
   ]
  },
  {
   "cell_type": "code",
   "execution_count": 123,
   "id": "d0d491f20eaaaad1",
   "metadata": {
    "ExecuteTime": {
     "end_time": "2024-03-18T21:06:23.245275Z",
     "start_time": "2024-03-18T21:06:23.229277Z"
    },
    "collapsed": false
   },
   "outputs": [
    {
     "data": {
      "text/plain": [
       "genai.GenerativeModel(\n",
       "    model_name='models/gemini-pro',\n",
       "    generation_config={},\n",
       "    safety_settings={},\n",
       "    tools=None,\n",
       ")"
      ]
     },
     "execution_count": 123,
     "metadata": {},
     "output_type": "execute_result"
    }
   ],
   "source": [
    "model"
   ]
  },
  {
   "cell_type": "code",
   "execution_count": 124,
   "id": "c750c1703e9cbcd8",
   "metadata": {
    "ExecuteTime": {
     "end_time": "2024-03-18T21:06:24.065114Z",
     "start_time": "2024-03-18T21:06:24.060112Z"
    },
    "collapsed": false
   },
   "outputs": [],
   "source": [
    "question = \"How many titles do we have in the database?\""
   ]
  },
  {
   "cell_type": "code",
   "execution_count": 125,
   "id": "750bec314336b78b",
   "metadata": {
    "ExecuteTime": {
     "end_time": "2024-03-18T21:06:26.354668Z",
     "start_time": "2024-03-18T21:06:24.696065Z"
    },
    "collapsed": false
   },
   "outputs": [],
   "source": [
    "response = model.generate_content(question)"
   ]
  },
  {
   "cell_type": "code",
   "execution_count": 126,
   "id": "9584331db633f052",
   "metadata": {
    "ExecuteTime": {
     "end_time": "2024-03-18T21:06:28.955049Z",
     "start_time": "2024-03-18T21:06:28.944092Z"
    },
    "collapsed": false
   },
   "outputs": [
    {
     "data": {
      "text/plain": [
       "'I do not have access to your database, so I cannot answer this question. You can find the number of titles in your database by querying the database.'"
      ]
     },
     "execution_count": 126,
     "metadata": {},
     "output_type": "execute_result"
    }
   ],
   "source": [
    "response.text"
   ]
  },
  {
   "cell_type": "code",
   "execution_count": 127,
   "id": "5e05d3b393ed9978",
   "metadata": {
    "ExecuteTime": {
     "end_time": "2024-03-18T21:08:35.170533Z",
     "start_time": "2024-03-18T21:08:35.154683Z"
    },
    "collapsed": false
   },
   "outputs": [],
   "source": [
    "few_shots = [\n",
    "        {\n",
    "            \"input\": \"How many Titles are present?\", \n",
    "            \"query\": \"SELECT COUNT(*) FROM IMDB;\"},\n",
    "        {\n",
    "            \"input\": \"List the Titles with the 10 highest Rating\",\n",
    "            \"query\": \"SELECT Title FROM IMDB ORDER BY Rating DESC LIMIT 10;\",\n",
    "        },\n",
    "        {\n",
    "            \"input\": \"List the genre of the highest worldwide earning title\",\n",
    "            \"query\": \"SELECT a.GENRE FROM earning b LEFT JOIN genre a ON a.Movie_id = b.Movie_id ORDER BY b.Worldwide DESC LIMIT 1;\",\n",
    "        },\n",
    "        {\n",
    "            \"input\": \"List the Title, Budget and domestic earnings from the highest Rating Title\",\n",
    "            \"query\": \"SELECT a.Title, a.Budget, b.Domestic FROM IMDB a LEFT JOIN earnings b ON a.Movie_id = b.Movie_id ORDER BY a.Ratings DESC LIMIT 1;\",\n",
    "        }\n",
    "    ]"
   ]
  },
  {
   "cell_type": "code",
   "execution_count": 128,
   "id": "d80b8def24b278f0",
   "metadata": {
    "ExecuteTime": {
     "end_time": "2024-03-18T21:10:20.966149Z",
     "start_time": "2024-03-18T21:10:20.951146Z"
    },
    "collapsed": false
   },
   "outputs": [],
   "source": [
    "prompt = [\n",
    "        f\"\"\"\n",
    "        You are an expert in converting English questions to SQL query!\n",
    "        The SQL database has 3 tables, and these are the schemas: {db_schema}. \n",
    "        You can order the results by a relevant column to return the most interesting examples in the database.\n",
    "        Never query for all the columns from a specific table, only ask for the relevant columns given the question.\n",
    "        Also the sql code should not have ``` in beginning or end and sql word in output.\n",
    "        You MUST double check your query before executing it. If you get an error while executing a query, rewrite the query and try again.\n",
    "    \n",
    "        DO NOT make any DML statements (INSERT, UPDATE, DELETE, DROP etc.) to the database.\n",
    "\n",
    "        If the question does not seem related to the database, just return \"I don't know\" as the answer.\n",
    "\n",
    "        Here are some examples of user inputs and their corresponding SQL queries:\n",
    "        \"\"\",\n",
    "    ]\n",
    "\n",
    "# Append each example to the prompt\n",
    "for sql_example in few_shots:\n",
    "    prompt.append(f\"\\nExample - {sql_example['input']}, the SQL command will be something like this {sql_example['query']}\")\n",
    "\n",
    "# Join prompt sections into a single string\n",
    "formatted_prompt = [''.join(prompt)]"
   ]
  },
  {
   "cell_type": "code",
   "execution_count": 129,
   "id": "b41b0af7392cdf35",
   "metadata": {
    "ExecuteTime": {
     "end_time": "2024-03-18T21:12:20.586299Z",
     "start_time": "2024-03-18T21:12:17.729780Z"
    },
    "collapsed": false
   },
   "outputs": [],
   "source": [
    "response_with_few_shots = model.generate_content([formatted_prompt[0], question])"
   ]
  },
  {
   "cell_type": "code",
   "execution_count": 130,
   "id": "33275741ac4ac2c9",
   "metadata": {
    "ExecuteTime": {
     "end_time": "2024-03-18T21:12:21.768012Z",
     "start_time": "2024-03-18T21:12:21.752008Z"
    },
    "collapsed": false
   },
   "outputs": [
    {
     "data": {
      "text/plain": [
       "response:\n",
       "GenerateContentResponse(\n",
       "    done=True,\n",
       "    iterator=None,\n",
       "    result=glm.GenerateContentResponse({'candidates': [{'content': {'parts': [{'text': 'SELECT COUNT(*) FROM IMDB;'}], 'role': 'model'}, 'finish_reason': 1, 'index': 0, 'safety_ratings': [{'category': 9, 'probability': 1, 'blocked': False}, {'category': 8, 'probability': 1, 'blocked': False}, {'category': 7, 'probability': 1, 'blocked': False}, {'category': 10, 'probability': 1, 'blocked': False}], 'token_count': 0, 'grounding_attributions': []}]}),\n",
       ")"
      ]
     },
     "execution_count": 130,
     "metadata": {},
     "output_type": "execute_result"
    }
   ],
   "source": [
    "response_with_few_shots"
   ]
  },
  {
   "cell_type": "code",
   "execution_count": 131,
   "id": "135a79bca876006b",
   "metadata": {
    "ExecuteTime": {
     "end_time": "2024-03-18T21:13:25.732740Z",
     "start_time": "2024-03-18T21:13:25.714731Z"
    },
    "collapsed": false
   },
   "outputs": [],
   "source": [
    "question_related_to_avg = \"What's the average rating of the Titles?\""
   ]
  },
  {
   "cell_type": "code",
   "execution_count": 132,
   "id": "2dfd3bb019650b25",
   "metadata": {
    "ExecuteTime": {
     "end_time": "2024-03-18T21:13:45.348625Z",
     "start_time": "2024-03-18T21:13:43.150101Z"
    },
    "collapsed": false
   },
   "outputs": [
    {
     "data": {
      "text/plain": [
       "'SELECT \\nAVG(Rating) \\nFROM \\nIMDB'"
      ]
     },
     "execution_count": 132,
     "metadata": {},
     "output_type": "execute_result"
    }
   ],
   "source": [
    "response_related_to_avg = model.generate_content([formatted_prompt[0], question_related_to_avg])\n",
    "response_related_to_avg.text"
   ]
  },
  {
   "cell_type": "code",
   "execution_count": 133,
   "id": "b8cbf71566dbe533",
   "metadata": {
    "ExecuteTime": {
     "end_time": "2024-03-18T21:14:09.450575Z",
     "start_time": "2024-03-18T21:14:09.443575Z"
    },
    "collapsed": false
   },
   "outputs": [
    {
     "data": {
      "text/plain": [
       "'SELECT \\nAVG(Rating) \\nFROM \\nIMDB'"
      ]
     },
     "execution_count": 133,
     "metadata": {},
     "output_type": "execute_result"
    }
   ],
   "source": [
    "response_related_to_avg.text"
   ]
  },
  {
   "cell_type": "code",
   "execution_count": 134,
   "id": "372bd1f778fddf8a",
   "metadata": {
    "ExecuteTime": {
     "end_time": "2024-03-18T21:16:31.254417Z",
     "start_time": "2024-03-18T21:16:31.246416Z"
    },
    "collapsed": false
   },
   "outputs": [],
   "source": [
    "sql_response = db.run('SELECT AVG(Rating) FROM IMDB')"
   ]
  },
  {
   "cell_type": "code",
   "execution_count": 135,
   "id": "8e6153418f5f023",
   "metadata": {
    "ExecuteTime": {
     "end_time": "2024-03-18T21:15:32.093502Z",
     "start_time": "2024-03-18T21:15:28.169386Z"
    },
    "collapsed": false
   },
   "outputs": [],
   "source": [
    "from langchain_google_vertexai import VertexAI\n",
    "\n",
    "credentials_path = \"credentials.json\"\n",
    "\n",
    "project_id = \"sql-llm-project-427811\"\n",
    "\n",
    "llm = VertexAI(model_name='gemini-pro', project=project_id, credentials_path=credentials_path)\n"
   ]
  },
  {
   "cell_type": "code",
   "execution_count": 146,
   "id": "82e665fbebdac25e",
   "metadata": {
    "ExecuteTime": {
     "end_time": "2024-03-18T21:16:39.428309Z",
     "start_time": "2024-03-18T21:16:35.253472Z"
    },
    "collapsed": false
   },
   "outputs": [
    {
     "data": {
      "text/plain": [
       "'The average response time from our server based on the last 7 days of data is 7.87 seconds. '"
      ]
     },
     "execution_count": 146,
     "metadata": {},
     "output_type": "execute_result"
    }
   ],
   "source": [
    "llm.invoke(f\"\"\"\n",
    "Based on the sql response, write an intuitive answer:\n",
    "\n",
    "SQL response: {sql_response}\n",
    "\"\"\")"
   ]
  },
  {
   "cell_type": "code",
   "execution_count": 138,
   "id": "e1fdb68cdebe5847",
   "metadata": {
    "ExecuteTime": {
     "end_time": "2024-03-18T21:17:33.728507Z",
     "start_time": "2024-03-18T21:17:33.711507Z"
    },
    "collapsed": false
   },
   "outputs": [],
   "source": [
    "from langchain_core.prompts import PromptTemplate"
   ]
  },
  {
   "cell_type": "code",
   "execution_count": 139,
   "id": "e1326930e5f79130",
   "metadata": {
    "ExecuteTime": {
     "end_time": "2024-03-18T21:17:49.270822Z",
     "start_time": "2024-03-18T21:17:49.261826Z"
    },
    "collapsed": false
   },
   "outputs": [],
   "source": [
    "template = \"\"\"\n",
    "Based on the sql response, write an intuitive answer:\n",
    "\n",
    "SQL response: {sql_response}\n",
    "\"\"\""
   ]
  },
  {
   "cell_type": "code",
   "execution_count": 140,
   "id": "7334a675119abb03",
   "metadata": {
    "ExecuteTime": {
     "end_time": "2024-03-18T21:21:25.620268Z",
     "start_time": "2024-03-18T21:21:25.606242Z"
    },
    "collapsed": false
   },
   "outputs": [],
   "source": [
    "prompt_template = PromptTemplate(template = template, input_variables = ['sql_response'])"
   ]
  },
  {
   "cell_type": "code",
   "execution_count": 141,
   "id": "84fe24d25f4370f8",
   "metadata": {
    "ExecuteTime": {
     "end_time": "2024-03-18T21:21:40.637843Z",
     "start_time": "2024-03-18T21:21:40.634858Z"
    },
    "collapsed": false
   },
   "outputs": [],
   "source": [
    "from langchain.chains import LLMChain"
   ]
  },
  {
   "cell_type": "code",
   "execution_count": 142,
   "id": "144b4539bc73eed1",
   "metadata": {
    "ExecuteTime": {
     "end_time": "2024-03-18T21:22:00.063168Z",
     "start_time": "2024-03-18T21:22:00.050183Z"
    },
    "collapsed": false
   },
   "outputs": [],
   "source": [
    "chain = LLMChain(llm = llm, prompt = prompt_template)"
   ]
  },
  {
   "cell_type": "code",
   "execution_count": 145,
   "id": "a754bf1c535cbccb",
   "metadata": {
    "ExecuteTime": {
     "end_time": "2024-03-18T21:22:11.599706Z",
     "start_time": "2024-03-18T21:22:10.006039Z"
    },
    "collapsed": false
   },
   "outputs": [
    {
     "data": {
      "text/plain": [
       "{'sql_response': '[(7.873504273504273,)]',\n",
       " 'text': 'The average price of the product is $7.87.'}"
      ]
     },
     "execution_count": 145,
     "metadata": {},
     "output_type": "execute_result"
    }
   ],
   "source": [
    "chain.invoke(sql_response)"
   ]
  },
  {
   "cell_type": "code",
   "execution_count": null,
   "id": "c45409f5e629c667",
   "metadata": {
    "collapsed": false
   },
   "outputs": [],
   "source": []
  }
 ],
 "metadata": {
  "kernelspec": {
   "display_name": "Python 3",
   "language": "python",
   "name": "python3"
  },
  "language_info": {
   "codemirror_mode": {
    "name": "ipython",
    "version": 3
   },
   "file_extension": ".py",
   "mimetype": "text/x-python",
   "name": "python",
   "nbconvert_exporter": "python",
   "pygments_lexer": "ipython3",
   "version": "3.9.13"
  }
 },
 "nbformat": 4,
 "nbformat_minor": 5
}
